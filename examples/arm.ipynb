{
 "cells": [
  {
   "cell_type": "markdown",
   "id": "b35e65d1",
   "metadata": {},
   "source": [
    "## Association rule mining simulation"
   ]
  },
  {
   "cell_type": "markdown",
   "id": "f0f48277",
   "metadata": {},
   "source": [
    "### Dependencies"
   ]
  },
  {
   "cell_type": "code",
   "execution_count": 1,
   "id": "cd694051",
   "metadata": {},
   "outputs": [],
   "source": [
    "from drug_couse.arm.build import (\n",
    "    simulated_patient_drug_combination,\n",
    "    DrugAssociationAnalyzer,\n",
    "    compare_file_sizes,\n",
    "    load_parquet_data,\n",
    ")\n",
    "import os\n",
    "from pathlib import Path\n",
    "\n",
    "working_dir = Path(\"C:/my_disk/____tmp/drug_couse\")\n",
    "Path(working_dir).mkdir(parents=True, exist_ok=True)\n",
    "os.chdir(working_dir)"
   ]
  },
  {
   "cell_type": "markdown",
   "id": "ffc21a5f",
   "metadata": {},
   "source": [
    "### simulated_patient_drug_combination"
   ]
  },
  {
   "cell_type": "code",
   "execution_count": 2,
   "id": "1401e6f7",
   "metadata": {},
   "outputs": [
    {
     "data": {
      "text/html": [
       "<div>\n",
       "<style scoped>\n",
       "    .dataframe tbody tr th:only-of-type {\n",
       "        vertical-align: middle;\n",
       "    }\n",
       "\n",
       "    .dataframe tbody tr th {\n",
       "        vertical-align: top;\n",
       "    }\n",
       "\n",
       "    .dataframe thead th {\n",
       "        text-align: right;\n",
       "    }\n",
       "</style>\n",
       "<table border=\"1\" class=\"dataframe\">\n",
       "  <thead>\n",
       "    <tr style=\"text-align: right;\">\n",
       "      <th></th>\n",
       "      <th>pat_id</th>\n",
       "      <th>drg_combination</th>\n",
       "      <th>mode_of_dispensation</th>\n",
       "    </tr>\n",
       "  </thead>\n",
       "  <tbody>\n",
       "    <tr>\n",
       "      <th>0</th>\n",
       "      <td>6437</td>\n",
       "      <td>Drug A, Drug B, Drug 2</td>\n",
       "      <td>capsule, capsule, capsule</td>\n",
       "    </tr>\n",
       "    <tr>\n",
       "      <th>1</th>\n",
       "      <td>3480</td>\n",
       "      <td>Drug X, Drug Y, Drug W</td>\n",
       "      <td>cream, cream, cream</td>\n",
       "    </tr>\n",
       "    <tr>\n",
       "      <th>2</th>\n",
       "      <td>9984</td>\n",
       "      <td>Drug X, Drug Y, Drug W</td>\n",
       "      <td>cream, cream, ointment</td>\n",
       "    </tr>\n",
       "    <tr>\n",
       "      <th>3</th>\n",
       "      <td>8033</td>\n",
       "      <td>Drug 1, Drug 2</td>\n",
       "      <td>pill, tablet</td>\n",
       "    </tr>\n",
       "    <tr>\n",
       "      <th>4</th>\n",
       "      <td>5610</td>\n",
       "      <td>Drug A, Drug B, Drug D</td>\n",
       "      <td>tablet, capsule, capsule</td>\n",
       "    </tr>\n",
       "  </tbody>\n",
       "</table>\n",
       "</div>"
      ],
      "text/plain": [
       "   pat_id         drg_combination       mode_of_dispensation\n",
       "0    6437  Drug A, Drug B, Drug 2  capsule, capsule, capsule\n",
       "1    3480  Drug X, Drug Y, Drug W        cream, cream, cream\n",
       "2    9984  Drug X, Drug Y, Drug W     cream, cream, ointment\n",
       "3    8033          Drug 1, Drug 2               pill, tablet\n",
       "4    5610  Drug A, Drug B, Drug D   tablet, capsule, capsule"
      ]
     },
     "execution_count": 2,
     "metadata": {},
     "output_type": "execute_result"
    }
   ],
   "source": [
    "df = simulated_patient_drug_combination(1000)\n",
    "df.head()"
   ]
  },
  {
   "cell_type": "markdown",
   "id": "7bfad38f",
   "metadata": {},
   "source": [
    "### Automatically analyze ALL drug pairs with enhanced export"
   ]
  },
  {
   "cell_type": "code",
   "execution_count": 3,
   "id": "dce66519",
   "metadata": {},
   "outputs": [
    {
     "name": "stdout",
     "output_type": "stream",
     "text": [
      "\n",
      "🚀 Creating Complete Drug Relationships Matrix:\n",
      "============================================================\n"
     ]
    }
   ],
   "source": [
    "print(\"\\n🚀 Creating Complete Drug Relationships Matrix:\")\n",
    "print(\"=\" * 60)"
   ]
  },
  {
   "cell_type": "markdown",
   "id": "ef06e6d7",
   "metadata": {},
   "source": [
    "### Initialize analyzer"
   ]
  },
  {
   "cell_type": "code",
   "execution_count": 4,
   "id": "d3e9770e",
   "metadata": {},
   "outputs": [
    {
     "name": "stdout",
     "output_type": "stream",
     "text": [
      "🔄 Preprocessing data...\n",
      "✅ Data preprocessed: 1000 patients, 12 unique drugs\n",
      "\n",
      "📋 Transaction Matrix Shape: {transactions.shape}\n",
      "Sample of transaction matrix:\n",
      "   Drug 1  Drug 2  Drug 3  Drug 4  Drug A  Drug B  Drug C  Drug D  Drug W  \\\n",
      "0   False    True   False   False    True    True   False   False   False   \n",
      "1   False   False   False   False   False   False   False   False    True   \n",
      "2   False   False   False   False   False   False   False   False    True   \n",
      "3    True    True   False   False   False   False   False   False   False   \n",
      "4   False   False   False   False    True    True   False    True   False   \n",
      "\n",
      "   Drug X  Drug Y  Drug Z  \n",
      "0   False   False   False  \n",
      "1    True    True   False  \n",
      "2    True    True   False  \n",
      "3   False   False   False  \n",
      "4   False   False   False  \n",
      "\n",
      "📈 Drug Usage Statistics:\n",
      "==================================================\n",
      "Total patients: 1000\n",
      "Total unique drugs: 12\n",
      "\n",
      "Top 10 most prescribed drugs:\n",
      "  Drug X: 374 patients (37.4%)\n",
      "  Drug Y: 358 patients (35.8%)\n",
      "  Drug 2: 356 patients (35.6%)\n",
      "  Drug 1: 350 patients (35.0%)\n",
      "  Drug A: 348 patients (34.8%)\n",
      "  Drug B: 346 patients (34.6%)\n",
      "  Drug D: 56 patients (5.6%)\n",
      "  Drug W: 51 patients (5.1%)\n",
      "  Drug 3: 48 patients (4.8%)\n",
      "  Drug Z: 47 patients (4.7%)\n",
      "🔍 Finding frequent itemsets with min_support=0.2...\n",
      "✅ Found 9 frequent itemsets\n",
      "\n",
      "📊 Top 10 Frequent Itemsets:\n",
      "   support          itemsets\n",
      "4    0.374          (Drug X)\n",
      "5    0.358          (Drug Y)\n",
      "1    0.356          (Drug 2)\n",
      "0    0.350          (Drug 1)\n",
      "2    0.348          (Drug A)\n",
      "3    0.346          (Drug B)\n",
      "8    0.341  (Drug Y, Drug X)\n",
      "6    0.332  (Drug 1, Drug 2)\n",
      "7    0.327  (Drug B, Drug A)\n",
      "📊 Generating association rules with min_confidence=0.5...\n",
      "✅ Generated 6 association rules\n",
      "🔄 Calculating relationships for ALL drug pairs...\n",
      "   Analyzing 12 drugs = 132 possible relationships\n",
      "✅ Calculated 96 drug-to-drug relationships\n",
      "✅ Saved parquet file: complete_drug_relationships_matrix.parquet\n",
      "✅ Exported comprehensive drug pairs analysis to: {filename}\n",
      "   📊 Excel sheets created:\n",
      "      • All_Drug_Pairs: Complete relationship matrix\n",
      "      • High_Confidence_60+: Relationships with 60%+ confidence\n",
      "      • Strong_Association_Lift2+: Relationships with lift ≥ 2.0\n",
      "      • High_Clinical_Priority: Most clinically relevant relationships\n",
      "      • Confidence_Matrix: Pivot table of confidence scores\n",
      "      • Lift_Matrix: Pivot table of lift scores\n",
      "      • Drug_Summary: Summary statistics per drug\n",
      "      • Top_Relations_Per_Drug: Best relationships for each drug\n",
      "\n",
      "   📁 Parquet files created:\n",
      "      • {parquet_filename}: Complete dataset\n",
      "      • {filename.replace('.xlsx', '_high_confidence.parquet')}: High confidence relationships\n",
      "      • {filename.replace('.xlsx', '_strong_lift.parquet')}: Strong lift relationships\n",
      "      • {filename.replace('.xlsx', '_high_priority.parquet')}: High priority relationships\n",
      "      • {filename.replace('.xlsx', '_drug_summary.parquet')}: Drug summary\n",
      "      • {filename.replace('.xlsx', '_top_relationships.parquet')}: Top relationships per drug\n",
      "\n",
      "📈 Complete Analysis Summary:\n",
      "   Total drug pairs analyzed: 96\n",
      "   High confidence relationships (60%+): 18\n",
      "   Strong associations (Lift 2.0+): 30\n",
      "   High priority relationships: 18\n",
      "\n",
      "📊 File Size Comparison:\n",
      "========================================\n",
      "   Excel: 0.02 MB\n",
      " Parquet: 0.01 MB\n",
      "     CSV: File not found\n",
      "\n",
      "📁 Output Files Generated:\n",
      "   📊 Excel File: complete_drug_relationships_matrix.xlsx\n",
      "      • Multiple sheets with filtered views\n",
      "      • Pivot tables for easy analysis\n",
      "      • Summary statistics\n",
      "   📦 Parquet Files: Multiple .parquet files for different views\n",
      "      • Faster loading for large datasets\n",
      "      • Better compression than CSV\n",
      "      • Preserves data types\n"
     ]
    }
   ],
   "source": [
    "analyzer = DrugAssociationAnalyzer(df)\n",
    "\n",
    "# Step 1: Preprocess data\n",
    "transactions = analyzer.preprocess_data()\n",
    "print(\"\\n📋 Transaction Matrix Shape: {transactions.shape}\")\n",
    "print(\"Sample of transaction matrix:\")\n",
    "print(transactions.head())\n",
    "\n",
    "# Step 2: Get basic statistics\n",
    "analyzer.get_drug_statistics()\n",
    "\n",
    "# Step 3: Find frequent itemsets\n",
    "# Start with low min_support since we have small dataset\n",
    "frequent_itemsets = analyzer.find_frequent_itemsets(min_support=0.2)\n",
    "\n",
    "if frequent_itemsets is not None:\n",
    "    print(\"\\n📊 Top 10 Frequent Itemsets:\")\n",
    "    print(frequent_itemsets.nlargest(10, \"support\"))\n",
    "\n",
    "# Step 4: Generate association rules\n",
    "rules = analyzer.generate_association_rules(metric=\"confidence\", min_threshold=0.5)\n",
    "\n",
    "all_pairs_matrix = analyzer.create_all_pairs_relationship_matrix(\n",
    "    export_to_excel=True, filename=\"complete_drug_relationships_matrix.xlsx\"\n",
    ")\n",
    "\n",
    "\n",
    "if all_pairs_matrix is not None:\n",
    "    print(\"\\n📈 Complete Analysis Summary:\")\n",
    "    print(f\"   Total drug pairs analyzed: {len(all_pairs_matrix):,}\")\n",
    "    print(\n",
    "        f\"   High confidence relationships (60%+): {len(all_pairs_matrix[all_pairs_matrix['Confidence'] >= 0.6]):,}\"\n",
    "    )\n",
    "    print(\n",
    "        f\"   Strong associations (Lift 2.0+): {len(all_pairs_matrix[all_pairs_matrix['Lift'] >= 2.0]):,}\"\n",
    "    )\n",
    "    print(\n",
    "        f\"   High priority relationships: {len(all_pairs_matrix[all_pairs_matrix['Clinical_Priority'] == 'High']):,}\"\n",
    "    )\n",
    "\n",
    "    # Compare file sizes for the complete matrix\n",
    "    compare_file_sizes(\"complete_drug_relationships_matrix\")\n",
    "\n",
    "    print(\"\\n📁 Output Files Generated:\")\n",
    "    print(\"   📊 Excel File: complete_drug_relationships_matrix.xlsx\")\n",
    "    print(\"      • Multiple sheets with filtered views\")\n",
    "    print(\"      • Pivot tables for easy analysis\")\n",
    "    print(\"      • Summary statistics\")\n",
    "    print(\"   📦 Parquet Files: Multiple .parquet files for different views\")\n",
    "    print(\"      • Faster loading for large datasets\")\n",
    "    print(\"      • Better compression than CSV\")\n",
    "    print(\"      • Preserves data types\")"
   ]
  },
  {
   "cell_type": "markdown",
   "id": "088004fa",
   "metadata": {},
   "source": [
    "### Demonstration of loading parquet data"
   ]
  },
  {
   "cell_type": "code",
   "execution_count": 5,
   "id": "395ce1ee",
   "metadata": {},
   "outputs": [
    {
     "name": "stdout",
     "output_type": "stream",
     "text": [
      "\n",
      "🔄 Demonstration: Loading Parquet Data\n",
      "✅ Loaded parquet file: complete_drug_relationships_matrix.parquet\n",
      "   Shape: (96, 14)\n",
      "   Columns: ['Drug_A', 'Drug_B', 'Patients_A', 'Patients_B', 'Patients_Both', 'Support', 'Confidence', 'Confidence_%', 'Lift', 'Leverage', 'Conviction', 'Rule_Strength', 'Clinical_Priority', 'Relationship_Type']\n",
      "   Sample of loaded data:\n",
      "   Drug_A Drug_B  Confidence_%  Lift Rule_Strength\n",
      "Drug D Drug B         100.0 2.890   Very Strong\n",
      "Drug C Drug B         100.0 2.890   Very Strong\n",
      "Drug D Drug A         100.0 2.874   Very Strong\n",
      "\n",
      "============================================================\n",
      "🎉 Enhanced Analysis Complete with Dual Export!\n",
      "📋 Key Features:\n",
      "   ✅ Excel export with multiple sheets\n",
      "   ✅ Parquet export for large datasets\n",
      "   ✅ Automatic handling of Excel row limits\n",
      "   ✅ File size comparisons\n",
      "   ✅ Easy data loading utilities\n",
      "============================================================\n"
     ]
    }
   ],
   "source": [
    "print(\"\\n🔄 Demonstration: Loading Parquet Data\")\n",
    "sample_parquet = load_parquet_data(\"complete_drug_relationships_matrix.parquet\")\n",
    "if sample_parquet is not None:\n",
    "    print(\"   Sample of loaded data:\")\n",
    "    print(\n",
    "        f\"   {sample_parquet.head(3)[['Drug_A', 'Drug_B', 'Confidence_%', 'Lift', 'Rule_Strength']].to_string(index=False)}\"\n",
    "    )\n",
    "\n",
    "print(\"\\n\" + \"=\" * 60)\n",
    "print(\"🎉 Enhanced Analysis Complete with Dual Export!\")\n",
    "print(\"📋 Key Features:\")\n",
    "print(\"   ✅ Excel export with multiple sheets\")\n",
    "print(\"   ✅ Parquet export for large datasets\")\n",
    "print(\"   ✅ Automatic handling of Excel row limits\")\n",
    "print(\"   ✅ File size comparisons\")\n",
    "print(\"   ✅ Easy data loading utilities\")\n",
    "print(\"=\" * 60)"
   ]
  },
  {
   "cell_type": "markdown",
   "id": "3d72746d",
   "metadata": {},
   "source": [
    "### Self run"
   ]
  },
  {
   "cell_type": "code",
   "execution_count": null,
   "id": "206b55b7",
   "metadata": {},
   "outputs": [],
   "source": [
    "\"\"\"\n",
    "cd .\\tests\\\n",
    "uv run .\\arm_test.py\n",
    "\"\"\""
   ]
  }
 ],
 "metadata": {
  "kernelspec": {
   "display_name": ".venv",
   "language": "python",
   "name": "python3"
  },
  "language_info": {
   "codemirror_mode": {
    "name": "ipython",
    "version": 3
   },
   "file_extension": ".py",
   "mimetype": "text/x-python",
   "name": "python",
   "nbconvert_exporter": "python",
   "pygments_lexer": "ipython3",
   "version": "3.11.7"
  }
 },
 "nbformat": 4,
 "nbformat_minor": 5
}
